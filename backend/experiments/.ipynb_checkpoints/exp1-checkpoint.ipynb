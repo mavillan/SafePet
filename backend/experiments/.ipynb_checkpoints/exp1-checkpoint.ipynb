{
 "metadata": {
  "name": "",
  "signature": "sha256:1e568022f8e9f2b2bd5e34b5293228004425840636d7817e4b65732e75d08339"
 },
 "nbformat": 3,
 "nbformat_minor": 0,
 "worksheets": [
  {
   "cells": [
    {
     "cell_type": "markdown",
     "metadata": {},
     "source": [
      "**Hypotesis:** If an image gets scale by a factor of $p$ (both dimensions), then the radius of the LBP operator must be scaled by $1/p$ to reduce the distance between his representations."
     ]
    },
    {
     "cell_type": "markdown",
     "metadata": {},
     "source": [
      "**Experiment:** 3 images of the same source are used, scaled by a factor of 0.75 and 1.25 (and the original by 1.00). First the standart $LBP_{(P,R)}^{u2}$ is used with $P=8$ and $R=2$."
     ]
    },
    {
     "cell_type": "code",
     "collapsed": false,
     "input": [
      "%matplotlib inline\n",
      "import histogram\n",
      "import metric\n",
      "import numpy as np\n",
      "import cv2 as cv\n",
      "import matplotlib.pyplot as plt\n",
      "from skimage.feature import local_binary_pattern as lbp"
     ],
     "language": "python",
     "metadata": {},
     "outputs": [],
     "prompt_number": 16
    },
    {
     "cell_type": "code",
     "collapsed": false,
     "input": [
      "#load data\n",
      "img075=cv.imread('x075.jpg')\n",
      "img100=cv.imread('x100.jpg')\n",
      "img125=cv.imread('x125.jpg')\n",
      "\n",
      "#to grayscale\n",
      "img075=cv.cvtColor(img075,cv.COLOR_BGR2GRAY)\n",
      "img100=cv.cvtColor(img100,cv.COLOR_BGR2GRAY)\n",
      "img125=cv.cvtColor(img125,cv.COLOR_BGR2GRAY)"
     ],
     "language": "python",
     "metadata": {},
     "outputs": [],
     "prompt_number": 17
    },
    {
     "cell_type": "code",
     "collapsed": false,
     "input": [
      "#to lbp representation (LBP_{p,r}^u2)\n",
      "P=8\n",
      "R=2\n",
      "nx=25\n",
      "ny=25\n",
      "lbp075=lbp(img075,P,R,method='nri_uniform').astype(np.uint8)\n",
      "lbp100=lbp(img100,P,R,method='nri_uniform').astype(np.uint8)\n",
      "lbp125=lbp(img125,P,R,method='nri_uniform').astype(np.uint8)\n",
      "sph_075=histogram.spatial(lbp075,nx,ny)\n",
      "sph_orig=histogram.spatial(lbp100,nx,ny)\n",
      "sph_125=histogram.spatial(lbp125,nx,ny)\n"
     ],
     "language": "python",
     "metadata": {},
     "outputs": [],
     "prompt_number": 18
    },
    {
     "cell_type": "code",
     "collapsed": false,
     "input": [
      "#distances between scaled images\n",
      "print metric.chi2(sph_orig,sph_075)\n",
      "print metric.chi2(sph_orig,sph_125)"
     ],
     "language": "python",
     "metadata": {},
     "outputs": [
      {
       "output_type": "stream",
       "stream": "stdout",
       "text": [
        "28.2534548488\n",
        "25.2922471462\n"
       ]
      }
     ],
     "prompt_number": 19
    },
    {
     "cell_type": "markdown",
     "metadata": {},
     "source": [
      "As shown above, the images representation (spatial histogram) suffer some errors when they are scaled (are not equal to the original). So in the next, LBP representation for both x075.jpg and x125.jpg will be recalculated with variable radius $R\\in(1,3)$"
     ]
    },
    {
     "cell_type": "code",
     "collapsed": false,
     "input": [
      "r=np.arange(1.,3.,0.01)\n",
      "d=np.empty_like(r)\n",
      "index=0\n",
      "for R in r:\n",
      "    lbp075=lbp(img075,P,R,method='nri_uniform').astype(np.uint8)\n",
      "    sph_075=histogram.spatial(lbp075,nx,ny)\n",
      "    d[index]=metric.chi2(sph_orig,sph_075)\n",
      "    index+=1"
     ],
     "language": "python",
     "metadata": {},
     "outputs": [],
     "prompt_number": 14
    },
    {
     "cell_type": "code",
     "collapsed": false,
     "input": [
      "plt.plot(r,d,'bo')\n",
      "plt.xlabel('R')\n",
      "plt.ylabel('chi2() distance')\n",
      "plt.title('chi2(x100,x075) vs R')\n",
      "plt.grid(True)\n",
      "plt.show()"
     ],
     "language": "python",
     "metadata": {},
     "outputs": [
      {
       "metadata": {},
       "output_type": "display_data",
       "png": "[encoded data removed]",
       "text": [
        "<matplotlib.figure.Figure at 0x7fc5b3f85ad0>"
       ]
      }
     ],
     "prompt_number": 20
    },
    {
     "cell_type": "code",
     "collapsed": false,
     "input": [
      "d=np.empty_like(r)\n",
      "index=0\n",
      "for R in r:\n",
      "    lbp125=lbp(img125,P,R,method='nri_uniform').astype(np.uint8)\n",
      "    sph_125=histogram.spatial(lbp125,nx,ny)\n",
      "    d[index]=metric.chi2(sph_orig,sph_125)\n",
      "    index+=1"
     ],
     "language": "python",
     "metadata": {},
     "outputs": [],
     "prompt_number": 21
    },
    {
     "cell_type": "code",
     "collapsed": false,
     "input": [
      "plt.plot(r,d,'bo')\n",
      "plt.xlabel('R')\n",
      "plt.ylabel('chi2() distance')\n",
      "plt.title('chi2(x100,x125) vs R')\n",
      "plt.grid(True)\n",
      "plt.show()"
     ],
     "language": "python",
     "metadata": {},
     "outputs": [
      {
       "metadata": {},
       "output_type": "display_data",
       "png": "[encoded data removed]",
       "text": [
        "<matplotlib.figure.Figure at 0x7fc5b38641d0>"
       ]
      }
     ],
     "prompt_number": 22
    },
    {
     "cell_type": "markdown",
     "metadata": {},
     "source": [
      "** Conclusions: **\n",
      "1. The hypotesis seems to be true. For the x075.jpg image there exist a minimum at $R=1.5=0.75*2$ and for x125.jpg there exist a minimum at $R=2.5=1.25*2$.\n",
      "2. If one fails calculating this new $R$, then the distance will grow (There exist just two local minimum).\n",
      "3. It will be better to keep $R$ constant (as it is a local minimun to) and find some lowest resolution, where the efect of the scale on images isn't to bad."
     ]
    }
   ],
   "metadata": {}
  }
 ]
}