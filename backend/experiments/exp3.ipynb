{
 "metadata": {
  "name": "",
  "signature": "sha256:3ceb705adbc452dcec1a38bfc107321abe5f7c45986a4e573ef5a252c48eec04"
 },
 "nbformat": 3,
 "nbformat_minor": 0,
 "worksheets": [
  {
   "cells": [
    {
     "cell_type": "code",
     "collapsed": false,
     "input": [
      "import histogram\n",
      "import metric\n",
      "import old_histogram\n",
      "import numpy as np\n",
      "import cv2 as cv\n",
      "from skimage.feature import local_binary_pattern as lbp"
     ],
     "language": "python",
     "metadata": {},
     "outputs": [],
     "prompt_number": 1
    },
    {
     "cell_type": "code",
     "collapsed": false,
     "input": [
      "img = cv.imread('/home/martin/HDD/Mega/SafePet/SafePetData/training_set_processed/dog0000.jpg')\n",
      "gray=cv.cvtColor(img,cv.COLOR_BGR2GRAY)\n",
      "lbp_image=lbp(gray,8,2,method='nri_uniform').astype(np.uint8)"
     ],
     "language": "python",
     "metadata": {},
     "outputs": [],
     "prompt_number": 2
    },
    {
     "cell_type": "code",
     "collapsed": false,
     "input": [
      "%timeit old_histogram.spatial(lbp_image,25,25)"
     ],
     "language": "python",
     "metadata": {},
     "outputs": [
      {
       "output_type": "stream",
       "stream": "stdout",
       "text": [
        "100 loops, best of 3: 13.9 ms per loop\n"
       ]
      }
     ],
     "prompt_number": 5
    },
    {
     "cell_type": "code",
     "collapsed": false,
     "input": [
      "%timeit histogram.spatial(lbp_image,25,25)"
     ],
     "language": "python",
     "metadata": {},
     "outputs": [
      {
       "output_type": "stream",
       "stream": "stdout",
       "text": [
        "100 loops, best of 3: 4.15 ms per loop\n"
       ]
      }
     ],
     "prompt_number": 6
    },
    {
     "cell_type": "code",
     "collapsed": false,
     "input": [
      "#just to be sure\n",
      "metric.chi2(old_histogram.spatial(lbp_image,25,25),histogram.spatial(lbp_image,25,25))"
     ],
     "language": "python",
     "metadata": {},
     "outputs": [
      {
       "metadata": {},
       "output_type": "pyout",
       "prompt_number": 7,
       "text": [
        "2.6820559500786855e-31"
       ]
      }
     ],
     "prompt_number": 7
    },
    {
     "cell_type": "code",
     "collapsed": false,
     "input": [
      "%timeit old_histogram.spatial_pyramid(lbp_image)"
     ],
     "language": "python",
     "metadata": {},
     "outputs": [
      {
       "output_type": "stream",
       "stream": "stdout",
       "text": [
        "100 loops, best of 3: 3.94 ms per loop\n"
       ]
      }
     ],
     "prompt_number": 10
    },
    {
     "cell_type": "code",
     "collapsed": false,
     "input": [
      "%timeit histogram.spatial_pyramid(lbp_image)"
     ],
     "language": "python",
     "metadata": {},
     "outputs": [
      {
       "output_type": "stream",
       "stream": "stdout",
       "text": [
        "1000 loops, best of 3: 1.29 ms per loop\n"
       ]
      }
     ],
     "prompt_number": 11
    }
   ],
   "metadata": {}
  }
 ]
}